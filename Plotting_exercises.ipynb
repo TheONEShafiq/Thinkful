{
 "cells": [
  {
   "cell_type": "code",
   "execution_count": 1,
   "metadata": {},
   "outputs": [],
   "source": [
    "import numpy as np\n",
    "import pandas as pd\n",
    "import matplotlib as plt\n",
    "%matplotlib inline"
   ]
  },
  {
   "cell_type": "code",
   "execution_count": 2,
   "metadata": {},
   "outputs": [
    {
     "name": "stdout",
     "output_type": "stream",
     "text": [
      "/Users/sjadallah/Desktop\r\n"
     ]
    }
   ],
   "source": [
    "!pwd"
   ]
  },
  {
   "cell_type": "code",
   "execution_count": 7,
   "metadata": {},
   "outputs": [
    {
     "name": "stdout",
     "output_type": "stream",
     "text": [
      "       Date  All Grade ($/Gal)  Diesel ($/Gal)\n",
      "0    Dec-94              1.129           1.113\n",
      "1    Jan-95              1.130           1.098\n",
      "2    Feb-95              1.120           1.088\n",
      "3    Mar-95              1.119           1.088\n",
      "4    Apr-95              1.157           1.104\n",
      "5    May-95              1.225           1.126\n",
      "6    Jun-95              1.239           1.120\n",
      "7    Jul-95              1.201           1.100\n",
      "8    Aug-95              1.170           1.105\n",
      "9    Sep-95              1.158           1.119\n",
      "10   Oct-95              1.134           1.115\n",
      "11   Nov-95              1.109           1.120\n",
      "12   Dec-95              1.118           1.130\n",
      "13   Jan-96              1.137           1.145\n",
      "14   Feb-96              1.136           1.145\n",
      "15   Mar-96              1.183           1.183\n",
      "16   Apr-96              1.275           1.275\n",
      "17   May-96              1.324           1.273\n",
      "18   Jun-96              1.300           1.201\n",
      "19   Jul-96              1.272           1.176\n",
      "20   Aug-96              1.251           1.201\n",
      "21   Sep-96              1.247           1.265\n",
      "22   Oct-96              1.249           1.323\n",
      "23   Nov-96              1.278           1.323\n",
      "24   Dec-96              1.282           1.309\n",
      "25   Jan-97              1.283           1.291\n",
      "26   Feb-97              1.276           1.280\n",
      "27   Mar-97              1.251           1.229\n",
      "28   Apr-97              1.244           1.212\n",
      "29   May-97              1.245           1.196\n",
      "..      ...                ...             ...\n",
      "263  16-Nov              2.295           2.439\n",
      "264  16-Dec              2.366           2.510\n",
      "265  17-Jan              2.458           2.580\n",
      "266  17-Feb              2.416           2.568\n",
      "267  17-Mar              2.437           2.554\n",
      "268  17-Apr              2.528           2.583\n",
      "269  17-May              2.503           2.560\n",
      "270  17-Jun              2.460           2.511\n",
      "271  17-Jul              2.414           2.496\n",
      "272  17-Aug              2.494           2.595\n",
      "273  17-Sep              2.761           2.785\n",
      "274  17-Oct              2.621           2.794\n",
      "275  17-Nov              2.678           2.909\n",
      "276  17-Dec              2.594           2.909\n",
      "277  18-Jan              2.671           3.018\n",
      "278  18-Feb              2.705           3.046\n",
      "279  18-Mar              2.709           2.988\n",
      "280  18-Apr              2.873           3.096\n",
      "281  18-May              2.987           3.244\n",
      "282  18-Jun              2.970           3.253\n",
      "283  18-Jul              2.928           3.233\n",
      "284  18-Aug              2.914           3.218\n",
      "285  18-Sep              2.915           3.262\n",
      "286  18-Oct              2.943           3.365\n",
      "287  18-Nov              2.736           3.300\n",
      "288  18-Dec              2.457           3.123\n",
      "289  19-Jan              2.338           2.980\n",
      "290  19-Feb              2.393           2.997\n",
      "291  19-Mar              2.594           3.076\n",
      "292  19-Apr              2.881           3.121\n",
      "\n",
      "[293 rows x 3 columns]\n"
     ]
    }
   ],
   "source": [
    "df=pd.read_csv('US_fuelprices.csv')\n",
    "print(df)"
   ]
  },
  {
   "cell_type": "code",
   "execution_count": 8,
   "metadata": {},
   "outputs": [],
   "source": [
    "df.columns=['MM-Year', 'Fuel_All Grades', 'Fuel_Diesel']"
   ]
  },
  {
   "cell_type": "code",
   "execution_count": 2,
   "metadata": {},
   "outputs": [
    {
     "ename": "NameError",
     "evalue": "name 'df' is not defined",
     "output_type": "error",
     "traceback": [
      "\u001b[0;31m---------------------------------------------------------------------------\u001b[0m",
      "\u001b[0;31mNameError\u001b[0m                                 Traceback (most recent call last)",
      "\u001b[0;32m<ipython-input-2-630664029055>\u001b[0m in \u001b[0;36m<module>\u001b[0;34m\u001b[0m\n\u001b[0;32m----> 1\u001b[0;31m \u001b[0mFuel\u001b[0m \u001b[0;34m=\u001b[0m \u001b[0mdf\u001b[0m\u001b[0;34m.\u001b[0m\u001b[0mcolums\u001b[0m\u001b[0;34m[\u001b[0m\u001b[0;34m'Fuel_All Grades'\u001b[0m\u001b[0;34m]\u001b[0m\u001b[0;34m\u001b[0m\u001b[0;34m\u001b[0m\u001b[0m\n\u001b[0m\u001b[1;32m      2\u001b[0m \u001b[0mDiesel\u001b[0m \u001b[0;34m=\u001b[0m \u001b[0mdf\u001b[0m\u001b[0;34m.\u001b[0m\u001b[0mcolums\u001b[0m\u001b[0;34m[\u001b[0m\u001b[0;34m'Fuel_Diesel'\u001b[0m\u001b[0;34m]\u001b[0m\u001b[0;34m\u001b[0m\u001b[0;34m\u001b[0m\u001b[0m\n\u001b[1;32m      3\u001b[0m \u001b[0;34m\u001b[0m\u001b[0m\n\u001b[1;32m      4\u001b[0m \u001b[0mplt\u001b[0m\u001b[0;34m.\u001b[0m\u001b[0mplot\u001b[0m\u001b[0;34m(\u001b[0m\u001b[0mdf\u001b[0m\u001b[0;34m[\u001b[0m\u001b[0;34m'Fuel'\u001b[0m\u001b[0;34m]\u001b[0m\u001b[0;34m)\u001b[0m\u001b[0;34m\u001b[0m\u001b[0;34m\u001b[0m\u001b[0m\n\u001b[1;32m      5\u001b[0m \u001b[0mplt\u001b[0m\u001b[0;34m.\u001b[0m\u001b[0mshow\u001b[0m\u001b[0;34m(\u001b[0m\u001b[0;34m)\u001b[0m\u001b[0;34m\u001b[0m\u001b[0;34m\u001b[0m\u001b[0m\n",
      "\u001b[0;31mNameError\u001b[0m: name 'df' is not defined"
     ]
    }
   ],
   "source": [
    "Fuel = df.colums['Fuel_All Grades']\n",
    "Diesel = df.colums['Fuel_Diesel']\n",
    "\n",
    "plt.plot(df['Fuel'])\n",
    "plt.show()"
   ]
  },
  {
   "cell_type": "code",
   "execution_count": null,
   "metadata": {},
   "outputs": [],
   "source": []
  }
 ],
 "metadata": {
  "kernelspec": {
   "display_name": "Python 3",
   "language": "python",
   "name": "python3"
  },
  "language_info": {
   "codemirror_mode": {
    "name": "ipython",
    "version": 3
   },
   "file_extension": ".py",
   "mimetype": "text/x-python",
   "name": "python",
   "nbconvert_exporter": "python",
   "pygments_lexer": "ipython3",
   "version": "3.7.3"
  }
 },
 "nbformat": 4,
 "nbformat_minor": 2
}
