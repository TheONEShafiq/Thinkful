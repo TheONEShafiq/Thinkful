{
 "cells": [
  {
   "cell_type": "code",
   "execution_count": 3,
   "metadata": {},
   "outputs": [],
   "source": [
    "import numpy as np\n",
    "import pandas as pd\n",
    "import matplotlib.pyplot as plt\n",
    "%matplotlib inline"
   ]
  },
  {
   "cell_type": "code",
   "execution_count": 10,
   "metadata": {},
   "outputs": [
    {
     "data": {
      "image/png": "[encoded data removed]",
      "text/plain": [
       "<Figure size 432x288 with 1 Axes>"
      ]
     },
     "metadata": {
      "needs_background": "light"
     },
     "output_type": "display_data"
    },
    {
     "name": "stdout",
     "output_type": "stream",
     "text": [
      "mean:  0.9904221323944759\n",
      "stdev:  0.9685479844280677\n"
     ]
    }
   ],
   "source": [
    "exponential=np.random.exponential(1,1000)\n",
    "\n",
    "plt.hist(exponential)\n",
    "\n",
    "# Add a vertical line at the mean.\n",
    "plt.axvline(exponential.mean(), color='r', linestyle='solid', linewidth=2)\n",
    "\n",
    "# Add a vertical line at one standard deviation above the mean.\n",
    "plt.axvline(exponential.mean() + exponential.std(), color='r', linestyle='dashed', linewidth=2)\n",
    "\n",
    "# Add a vertical line at one standard deviation below the mean.\n",
    "plt.axvline(exponential.mean() - exponential.std(), color='r', linestyle='dashed', linewidth=2) \n",
    "\n",
    "plt.show()\n",
    "\n",
    "#def summarystats(exponential):\n",
    "print(\"mean: \",np.mean(exponential))\n",
    "print(\"stdev: \", np.std(exponential))\n",
    "    "
   ]
  },
  {
   "cell_type": "code",
   "execution_count": 5,
   "metadata": {},
   "outputs": [
    {
     "data": {
      "image/png": "[encoded data removed]",
      "text/plain": [
       "<Figure size 432x288 with 1 Axes>"
      ]
     },
     "metadata": {
      "needs_background": "light"
     },
     "output_type": "display_data"
    },
    {
     "name": "stdout",
     "output_type": "stream",
     "text": [
      "mean:  50.04\n",
      "stdev:  4.817717301793454\n"
     ]
    }
   ],
   "source": [
    "binomial=np.random.binomial(100, .5, 1000)\n",
    "\n",
    "plt.hist(binomial)\n",
    "\n",
    "# Add a vertical line at the mean.\n",
    "plt.axvline(binomial.mean(), color='r', linestyle='solid', linewidth=2)\n",
    "\n",
    "# Add a vertical line at one standard deviation above the mean.\n",
    "plt.axvline(binomial.mean() + binomial.std(), color='r', linestyle='dashed', linewidth=2)\n",
    "\n",
    "# Add a vertical line at one standard deviation below the mean.\n",
    "plt.axvline(binomial.mean() - binomial.std(), color='r', linestyle='dashed', linewidth=2) \n",
    "\n",
    "plt.show()\n",
    "\n",
    "#def summarystats(exponential):\n",
    "print(\"mean: \",np.mean(binomial))\n",
    "print(\"stdev: \", np.std(binomial))\n",
    "    "
   ]
  },
  {
   "cell_type": "code",
   "execution_count": 16,
   "metadata": {},
   "outputs": [
    {
     "data": {
      "image/png": "[encoded data removed]",
      "text/plain": [
       "<Figure size 432x288 with 1 Axes>"
      ]
     },
     "metadata": {
      "needs_background": "light"
     },
     "output_type": "display_data"
    },
    {
     "name": "stdout",
     "output_type": "stream",
     "text": [
      "mean:  1.63676101168533\n",
      "stdev:  1.9200476999462741\n"
     ]
    }
   ],
   "source": [
    "lognormal=np.random.lognormal(0, 1, 100)\n",
    "\n",
    "plt.hist(lognormal)\n",
    "\n",
    "# Add a vertical line at the mean.\n",
    "plt.axvline(lognormal.mean(), color='r', linestyle='solid', linewidth=2)\n",
    "\n",
    "# Add a vertical line at one standard deviation above the mean.\n",
    "plt.axvline(lognormal.mean() + lognormal.std(), color='r', linestyle='dashed', linewidth=2)\n",
    "\n",
    "# Add a vertical line at one standard deviation below the mean.\n",
    "plt.axvline(lognormal.mean() - lognormal.std(), color='r', linestyle='dashed', linewidth=2) \n",
    "\n",
    "plt.show()\n",
    "\n",
    "#def summarystats(exponential):\n",
    "print(\"mean: \",np.mean(lognormal))\n",
    "print(\"stdev: \", np.std(lognormal))\n",
    "    "
   ]
  },
  {
   "cell_type": "code",
   "execution_count": 7,
   "metadata": {},
   "outputs": [
    {
     "data": {
      "image/png": "[encoded data removed]",
      "text/plain": [
       "<Figure size 432x288 with 1 Axes>"
      ]
     },
     "metadata": {
      "needs_background": "light"
     },
     "output_type": "display_data"
    },
    {
     "name": "stdout",
     "output_type": "stream",
     "text": [
      "mean:  -0.00784054802417174\n",
      "stdev:  0.9390981852625943\n"
     ]
    }
   ],
   "source": [
    "normal=np.random.normal(0, 1, 100)\n",
    "\n",
    "plt.hist(normal)\n",
    "\n",
    "# Add a vertical line at the mean.\n",
    "plt.axvline(normal.mean(), color='r', linestyle='solid', linewidth=2)\n",
    "\n",
    "# Add a vertical line at one standard deviation above the mean.\n",
    "plt.axvline(normal.mean() + normal.std(), color='r', linestyle='dashed', linewidth=2)\n",
    "\n",
    "# Add a vertical line at one standard deviation below the mean.\n",
    "plt.axvline(normal.mean() - normal.std(), color='r', linestyle='dashed', linewidth=2) \n",
    "\n",
    "plt.show()\n",
    "\n",
    "#def summarystats(exponential):\n",
    "print(\"mean: \",np.mean(normal))\n",
    "print(\"stdev: \", np.std(normal))"
   ]
  },
  {
   "cell_type": "code",
   "execution_count": 8,
   "metadata": {},
   "outputs": [
    {
     "data": {
      "image/png": "[encoded data removed]",
      "text/plain": [
       "<Figure size 432x288 with 1 Axes>"
      ]
     },
     "metadata": {
      "needs_background": "light"
     },
     "output_type": "display_data"
    },
    {
     "name": "stdout",
     "output_type": "stream",
     "text": [
      "mean:  0.19917446805907243\n",
      "stdev:  1.7512814000262686\n"
     ]
    }
   ],
   "source": [
    "logistic=np.random.logistic(0, 1, 100)\n",
    "\n",
    "plt.hist(logistic)\n",
    "\n",
    "# Add a vertical line at the mean.\n",
    "plt.axvline(logistic.mean(), color='r', linestyle='solid', linewidth=2)\n",
    "\n",
    "# Add a vertical line at one standard deviation above the mean.\n",
    "plt.axvline(logistic.mean() + logistic.std(), color='r', linestyle='dashed', linewidth=2)\n",
    "\n",
    "# Add a vertical line at one standard deviation below the mean.\n",
    "plt.axvline(logistic.mean() - logistic.std(), color='r', linestyle='dashed', linewidth=2) \n",
    "\n",
    "plt.show()\n",
    "\n",
    "#def summarystats(exponential):\n",
    "print(\"mean: \",np.mean(logistic))\n",
    "print(\"stdev: \", np.std(logistic))"
   ]
  },
  {
   "cell_type": "code",
   "execution_count": 9,
   "metadata": {},
   "outputs": [
    {
     "data": {
      "image/png": "[encoded data removed]",
      "text/plain": [
       "<Figure size 432x288 with 1 Axes>"
      ]
     },
     "metadata": {
      "needs_background": "light"
     },
     "output_type": "display_data"
    },
    {
     "name": "stdout",
     "output_type": "stream",
     "text": [
      "mean:  2.16\n",
      "stdev:  1.4472042012100435\n"
     ]
    }
   ],
   "source": [
    "poisson=np.random.poisson(2, 100)\n",
    "\n",
    "plt.hist(poisson)\n",
    "\n",
    "# Add a vertical line at the mean.\n",
    "plt.axvline(poisson.mean(), color='r', linestyle='solid', linewidth=2)\n",
    "\n",
    "# Add a vertical line at one standard deviation above the mean.\n",
    "plt.axvline(poisson.mean() + poisson.std(), color='r', linestyle='dashed', linewidth=2)\n",
    "\n",
    "# Add a vertical line at one standard deviation below the mean.\n",
    "plt.axvline(poisson.mean() - poisson.std(), color='r', linestyle='dashed', linewidth=2) \n",
    "\n",
    "plt.show()\n",
    "\n",
    "#def summarystats(exponential):\n",
    "print(\"mean: \",np.mean(poisson))\n",
    "print(\"stdev: \", np.std(poisson))"
   ]
  },
  {
   "cell_type": "code",
   "execution_count": 17,
   "metadata": {},
   "outputs": [
    {
     "data": {
      "image/png": "[encoded data removed]",
      "text/plain": [
       "<Figure size 432x288 with 1 Axes>"
      ]
     },
     "metadata": {
      "needs_background": "light"
     },
     "output_type": "display_data"
    },
    {
     "name": "stdout",
     "output_type": "stream",
     "text": [
      "mean:  14.913410973883284\n",
      "stdev:  1.108131023562213\n"
     ]
    }
   ],
   "source": [
    "dist1=np.random.normal(5, .5, 1000)\n",
    "dist2=np.random.normal(10, 1, 1000)\n",
    "dist3= dist1 + dist2\n",
    "\n",
    "plt.hist(dist3)\n",
    "\n",
    "plt.axvline(dist3.mean(), color='r', linestyle='solid', linewidth=2)\n",
    "plt.axvline(dist3.mean() + dist3.std(), color='r', linestyle='dashed', linewidth=2)\n",
    "plt.axvline(dist3.mean() - dist3.std(), color='r', linestyle='dashed', linewidth=2) \n",
    "\n",
    "plt.show()\n",
    "\n",
    "print(\"mean: \",np.mean(dist3))\n",
    "print(\"stdev: \", np.std(dist3))"
   ]
  },
  {
   "cell_type": "code",
   "execution_count": null,
   "metadata": {},
   "outputs": [],
   "source": []
  }
 ],
 "metadata": {
  "kernelspec": {
   "display_name": "Python 3",
   "language": "python",
   "name": "python3"
  },
  "language_info": {
   "codemirror_mode": {
    "name": "ipython",
    "version": 3
   },
   "file_extension": ".py",
   "mimetype": "text/x-python",
   "name": "python",
   "nbconvert_exporter": "python",
   "pygments_lexer": "ipython3",
   "version": "3.7.3"
  }
 },
 "nbformat": 4,
 "nbformat_minor": 2
}
